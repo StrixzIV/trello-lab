{
 "cells": [
  {
   "cell_type": "code",
   "execution_count": 3,
   "id": "e6d54479",
   "metadata": {},
   "outputs": [],
   "source": [
    "import time\n",
    "from djitellopy import Tello"
   ]
  },
  {
   "cell_type": "code",
   "execution_count": 4,
   "id": "e6d70d04",
   "metadata": {},
   "outputs": [
    {
     "name": "stderr",
     "output_type": "stream",
     "text": [
      "[INFO] tello.py - 106 - Tello instance was initialized. Host: '192.168.10.1'. Port: '8889'.\n",
      "[INFO] tello.py - 421 - Send command: 'command'\n",
      "[INFO] tello.py - 445 - Response command: 'ok'\n"
     ]
    }
   ],
   "source": [
    "tello = Tello()\n",
    "tello.connect()"
   ]
  },
  {
   "cell_type": "code",
   "execution_count": 5,
   "id": "bbb47f81",
   "metadata": {},
   "outputs": [
    {
     "name": "stdout",
     "output_type": "stream",
     "text": [
      "Current drone battery: 86%\n"
     ]
    }
   ],
   "source": [
    "response = tello.get_battery()\n",
    "print(f'Current drone battery: {response}%')"
   ]
  },
  {
   "cell_type": "code",
   "execution_count": null,
   "id": "6fde0e89",
   "metadata": {},
   "outputs": [
    {
     "name": "stderr",
     "output_type": "stream",
     "text": [
      "[INFO] tello.py - 421 - Send command: 'takeoff'\n",
      "[INFO] tello.py - 445 - Response takeoff: 'ok'\n",
      "[INFO] tello.py - 421 - Send command: 'up 80'\n",
      "[INFO] tello.py - 445 - Response up 80: 'ok'\n",
      "[INFO] tello.py - 421 - Send command: 'forward 100'\n",
      "[INFO] tello.py - 445 - Response forward 100: 'ok'\n",
      "[INFO] tello.py - 421 - Send command: 'left 100'\n",
      "[INFO] tello.py - 445 - Response left 100: 'ok'\n",
      "[INFO] tello.py - 421 - Send command: 'back 100'\n",
      "[INFO] tello.py - 445 - Response back 100: 'ok'\n",
      "[INFO] tello.py - 421 - Send command: 'right 100'\n",
      "[INFO] tello.py - 445 - Response right 100: 'ok'\n",
      "[INFO] tello.py - 421 - Send command: 'forward 100'\n",
      "[INFO] tello.py - 445 - Response forward 100: 'ok'\n",
      "[INFO] tello.py - 421 - Send command: 'left 100'\n",
      "[INFO] tello.py - 445 - Response left 100: 'ok'\n",
      "[INFO] tello.py - 421 - Send command: 'back 100'\n",
      "[INFO] tello.py - 445 - Response back 100: 'ok'\n",
      "[INFO] tello.py - 421 - Send command: 'right 100'\n",
      "[INFO] tello.py - 445 - Response right 100: 'ok'\n",
      "[INFO] tello.py - 421 - Send command: 'land'\n",
      "[INFO] tello.py - 445 - Response land: 'ok'\n"
     ]
    },
    {
     "name": "stdout",
     "output_type": "stream",
     "text": [
      "Current drone battery: 69% (Elasped: 37)\n"
     ]
    }
   ],
   "source": [
    "tello.takeoff()\n",
    "\n",
    "# \n",
    "tello.move_up(80)\n",
    "\n",
    "for _ in range(2):\n",
    "    \n",
    "\ttello.move_forward(100)\n",
    "\ttello.move_left(100)\n",
    "\ttello.move_back(100)\n",
    "\ttello.move_right(100)\n",
    " \n",
    "\ttime.sleep(0.5)\n",
    "    \n",
    "\n",
    "tello.land()\n",
    "print(f'Current drone battery: {tello.get_battery()}% (Elasped: {tello.get_flight_time()})')"
   ]
  }
 ],
 "metadata": {
  "kernelspec": {
   "display_name": "trello-lab",
   "language": "python",
   "name": "python3"
  },
  "language_info": {
   "codemirror_mode": {
    "name": "ipython",
    "version": 3
   },
   "file_extension": ".py",
   "mimetype": "text/x-python",
   "name": "python",
   "nbconvert_exporter": "python",
   "pygments_lexer": "ipython3",
   "version": "3.9.23"
  }
 },
 "nbformat": 4,
 "nbformat_minor": 5
}
